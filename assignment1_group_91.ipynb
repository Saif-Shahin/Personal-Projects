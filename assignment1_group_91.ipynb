{
  "nbformat": 4,
  "nbformat_minor": 0,
  "metadata": {
    "colab": {
      "provenance": [],
      "collapsed_sections": [],
      "toc_visible": true
    },
    "kernelspec": {
      "name": "python3",
      "display_name": "Python 3"
    },
    "language_info": {
      "name": "python"
    }
  },
  "cells": [
    {
      "cell_type": "markdown",
      "source": [
        "# Task 1: Acquire, preprocess, and analyze the data"
      ],
      "metadata": {
        "id": "zuNyFBzwIpyU"
      }
    },
    {
      "cell_type": "markdown",
      "source": [
        "Loading the DataSets"
      ],
      "metadata": {
        "id": "pWnqdtOgdxEG"
      }
    },
    {
      "cell_type": "code",
      "source": [
        "import io\n",
        "import pandas as pd\n",
        "import numpy as np\n",
        "from scipy.io import arff\n",
        "from urllib import request\n",
        "%matplotlib inline\n",
        "import matplotlib.pyplot as plt\n",
        "from IPython.core.debugger import set_trace\n",
        "from sklearn.model_selection import train_test_split\n",
        "\n",
        "np.random.seed(1234)\n",
        "url1 = \"http://archive.ics.uci.edu/ml/machine-learning-databases/hepatitis/hepatitis.data\"\n",
        "url2 = 'https://archive.ics.uci.edu/ml/machine-learning-databases/00329/messidor_features.arff'\n",
        "\n",
        "fstrm =request.urlopen(url2)\n",
        "data2, meta = arff.loadarff(io.StringIO(fstrm.read().decode('utf-8')))\n",
        "messidor_df=pd.DataFrame(data2)\n",
        "\n",
        "hepatitis_df = pd.read_csv(url1, header=None)\n",
        "print(\"Hepatitis Dataset:\")\n",
        "hepatitis_df.head()\n"
      ],
      "metadata": {
        "colab": {
          "base_uri": "https://localhost:8080/",
          "height": 224
        },
        "id": "lpbUsOi4QXek",
        "outputId": "bba774fe-df13-40f8-ac7a-192d30a9292e"
      },
      "execution_count": null,
      "outputs": [
        {
          "output_type": "stream",
          "name": "stdout",
          "text": [
            "Hepatitis Dataset:\n"
          ]
        },
        {
          "output_type": "execute_result",
          "data": {
            "text/plain": [
              "   0   1   2  3   4  5  6  7  8  9  10 11 12 13    14   15   16   17  18  19\n",
              "0   2  30   2  1   2  2  2  2  1  2  2  2  2  2  1.00   85   18  4.0   ?   1\n",
              "1   2  50   1  1   2  1  2  2  1  2  2  2  2  2  0.90  135   42  3.5   ?   1\n",
              "2   2  78   1  2   2  1  2  2  2  2  2  2  2  2  0.70   96   32  4.0   ?   1\n",
              "3   2  31   1  ?   1  2  2  2  2  2  2  2  2  2  0.70   46   52  4.0  80   1\n",
              "4   2  34   1  2   2  2  2  2  2  2  2  2  2  2  1.00    ?  200  4.0   ?   1"
            ],
            "text/html": [
              "\n",
              "  <div id=\"df-f96d721a-81ef-4571-844a-87327fdb41ec\">\n",
              "    <div class=\"colab-df-container\">\n",
              "      <div>\n",
              "<style scoped>\n",
              "    .dataframe tbody tr th:only-of-type {\n",
              "        vertical-align: middle;\n",
              "    }\n",
              "\n",
              "    .dataframe tbody tr th {\n",
              "        vertical-align: top;\n",
              "    }\n",
              "\n",
              "    .dataframe thead th {\n",
              "        text-align: right;\n",
              "    }\n",
              "</style>\n",
              "<table border=\"1\" class=\"dataframe\">\n",
              "  <thead>\n",
              "    <tr style=\"text-align: right;\">\n",
              "      <th></th>\n",
              "      <th>0</th>\n",
              "      <th>1</th>\n",
              "      <th>2</th>\n",
              "      <th>3</th>\n",
              "      <th>4</th>\n",
              "      <th>5</th>\n",
              "      <th>6</th>\n",
              "      <th>7</th>\n",
              "      <th>8</th>\n",
              "      <th>9</th>\n",
              "      <th>10</th>\n",
              "      <th>11</th>\n",
              "      <th>12</th>\n",
              "      <th>13</th>\n",
              "      <th>14</th>\n",
              "      <th>15</th>\n",
              "      <th>16</th>\n",
              "      <th>17</th>\n",
              "      <th>18</th>\n",
              "      <th>19</th>\n",
              "    </tr>\n",
              "  </thead>\n",
              "  <tbody>\n",
              "    <tr>\n",
              "      <th>0</th>\n",
              "      <td>2</td>\n",
              "      <td>30</td>\n",
              "      <td>2</td>\n",
              "      <td>1</td>\n",
              "      <td>2</td>\n",
              "      <td>2</td>\n",
              "      <td>2</td>\n",
              "      <td>2</td>\n",
              "      <td>1</td>\n",
              "      <td>2</td>\n",
              "      <td>2</td>\n",
              "      <td>2</td>\n",
              "      <td>2</td>\n",
              "      <td>2</td>\n",
              "      <td>1.00</td>\n",
              "      <td>85</td>\n",
              "      <td>18</td>\n",
              "      <td>4.0</td>\n",
              "      <td>?</td>\n",
              "      <td>1</td>\n",
              "    </tr>\n",
              "    <tr>\n",
              "      <th>1</th>\n",
              "      <td>2</td>\n",
              "      <td>50</td>\n",
              "      <td>1</td>\n",
              "      <td>1</td>\n",
              "      <td>2</td>\n",
              "      <td>1</td>\n",
              "      <td>2</td>\n",
              "      <td>2</td>\n",
              "      <td>1</td>\n",
              "      <td>2</td>\n",
              "      <td>2</td>\n",
              "      <td>2</td>\n",
              "      <td>2</td>\n",
              "      <td>2</td>\n",
              "      <td>0.90</td>\n",
              "      <td>135</td>\n",
              "      <td>42</td>\n",
              "      <td>3.5</td>\n",
              "      <td>?</td>\n",
              "      <td>1</td>\n",
              "    </tr>\n",
              "    <tr>\n",
              "      <th>2</th>\n",
              "      <td>2</td>\n",
              "      <td>78</td>\n",
              "      <td>1</td>\n",
              "      <td>2</td>\n",
              "      <td>2</td>\n",
              "      <td>1</td>\n",
              "      <td>2</td>\n",
              "      <td>2</td>\n",
              "      <td>2</td>\n",
              "      <td>2</td>\n",
              "      <td>2</td>\n",
              "      <td>2</td>\n",
              "      <td>2</td>\n",
              "      <td>2</td>\n",
              "      <td>0.70</td>\n",
              "      <td>96</td>\n",
              "      <td>32</td>\n",
              "      <td>4.0</td>\n",
              "      <td>?</td>\n",
              "      <td>1</td>\n",
              "    </tr>\n",
              "    <tr>\n",
              "      <th>3</th>\n",
              "      <td>2</td>\n",
              "      <td>31</td>\n",
              "      <td>1</td>\n",
              "      <td>?</td>\n",
              "      <td>1</td>\n",
              "      <td>2</td>\n",
              "      <td>2</td>\n",
              "      <td>2</td>\n",
              "      <td>2</td>\n",
              "      <td>2</td>\n",
              "      <td>2</td>\n",
              "      <td>2</td>\n",
              "      <td>2</td>\n",
              "      <td>2</td>\n",
              "      <td>0.70</td>\n",
              "      <td>46</td>\n",
              "      <td>52</td>\n",
              "      <td>4.0</td>\n",
              "      <td>80</td>\n",
              "      <td>1</td>\n",
              "    </tr>\n",
              "    <tr>\n",
              "      <th>4</th>\n",
              "      <td>2</td>\n",
              "      <td>34</td>\n",
              "      <td>1</td>\n",
              "      <td>2</td>\n",
              "      <td>2</td>\n",
              "      <td>2</td>\n",
              "      <td>2</td>\n",
              "      <td>2</td>\n",
              "      <td>2</td>\n",
              "      <td>2</td>\n",
              "      <td>2</td>\n",
              "      <td>2</td>\n",
              "      <td>2</td>\n",
              "      <td>2</td>\n",
              "      <td>1.00</td>\n",
              "      <td>?</td>\n",
              "      <td>200</td>\n",
              "      <td>4.0</td>\n",
              "      <td>?</td>\n",
              "      <td>1</td>\n",
              "    </tr>\n",
              "  </tbody>\n",
              "</table>\n",
              "</div>\n",
              "      <button class=\"colab-df-convert\" onclick=\"convertToInteractive('df-f96d721a-81ef-4571-844a-87327fdb41ec')\"\n",
              "              title=\"Convert this dataframe to an interactive table.\"\n",
              "              style=\"display:none;\">\n",
              "        \n",
              "  <svg xmlns=\"http://www.w3.org/2000/svg\" height=\"24px\"viewBox=\"0 0 24 24\"\n",
              "       width=\"24px\">\n",
              "    <path d=\"M0 0h24v24H0V0z\" fill=\"none\"/>\n",
              "    <path d=\"M18.56 5.44l.94 2.06.94-2.06 2.06-.94-2.06-.94-.94-2.06-.94 2.06-2.06.94zm-11 1L8.5 8.5l.94-2.06 2.06-.94-2.06-.94L8.5 2.5l-.94 2.06-2.06.94zm10 10l.94 2.06.94-2.06 2.06-.94-2.06-.94-.94-2.06-.94 2.06-2.06.94z\"/><path d=\"M17.41 7.96l-1.37-1.37c-.4-.4-.92-.59-1.43-.59-.52 0-1.04.2-1.43.59L10.3 9.45l-7.72 7.72c-.78.78-.78 2.05 0 2.83L4 21.41c.39.39.9.59 1.41.59.51 0 1.02-.2 1.41-.59l7.78-7.78 2.81-2.81c.8-.78.8-2.07 0-2.86zM5.41 20L4 18.59l7.72-7.72 1.47 1.35L5.41 20z\"/>\n",
              "  </svg>\n",
              "      </button>\n",
              "      \n",
              "  <style>\n",
              "    .colab-df-container {\n",
              "      display:flex;\n",
              "      flex-wrap:wrap;\n",
              "      gap: 12px;\n",
              "    }\n",
              "\n",
              "    .colab-df-convert {\n",
              "      background-color: #E8F0FE;\n",
              "      border: none;\n",
              "      border-radius: 50%;\n",
              "      cursor: pointer;\n",
              "      display: none;\n",
              "      fill: #1967D2;\n",
              "      height: 32px;\n",
              "      padding: 0 0 0 0;\n",
              "      width: 32px;\n",
              "    }\n",
              "\n",
              "    .colab-df-convert:hover {\n",
              "      background-color: #E2EBFA;\n",
              "      box-shadow: 0px 1px 2px rgba(60, 64, 67, 0.3), 0px 1px 3px 1px rgba(60, 64, 67, 0.15);\n",
              "      fill: #174EA6;\n",
              "    }\n",
              "\n",
              "    [theme=dark] .colab-df-convert {\n",
              "      background-color: #3B4455;\n",
              "      fill: #D2E3FC;\n",
              "    }\n",
              "\n",
              "    [theme=dark] .colab-df-convert:hover {\n",
              "      background-color: #434B5C;\n",
              "      box-shadow: 0px 1px 3px 1px rgba(0, 0, 0, 0.15);\n",
              "      filter: drop-shadow(0px 1px 2px rgba(0, 0, 0, 0.3));\n",
              "      fill: #FFFFFF;\n",
              "    }\n",
              "  </style>\n",
              "\n",
              "      <script>\n",
              "        const buttonEl =\n",
              "          document.querySelector('#df-f96d721a-81ef-4571-844a-87327fdb41ec button.colab-df-convert');\n",
              "        buttonEl.style.display =\n",
              "          google.colab.kernel.accessAllowed ? 'block' : 'none';\n",
              "\n",
              "        async function convertToInteractive(key) {\n",
              "          const element = document.querySelector('#df-f96d721a-81ef-4571-844a-87327fdb41ec');\n",
              "          const dataTable =\n",
              "            await google.colab.kernel.invokeFunction('convertToInteractive',\n",
              "                                                     [key], {});\n",
              "          if (!dataTable) return;\n",
              "\n",
              "          const docLinkHtml = 'Like what you see? Visit the ' +\n",
              "            '<a target=\"_blank\" href=https://colab.research.google.com/notebooks/data_table.ipynb>data table notebook</a>'\n",
              "            + ' to learn more about interactive tables.';\n",
              "          element.innerHTML = '';\n",
              "          dataTable['output_type'] = 'display_data';\n",
              "          await google.colab.output.renderOutput(dataTable, element);\n",
              "          const docLink = document.createElement('div');\n",
              "          docLink.innerHTML = docLinkHtml;\n",
              "          element.appendChild(docLink);\n",
              "        }\n",
              "      </script>\n",
              "    </div>\n",
              "  </div>\n",
              "  "
            ]
          },
          "metadata": {},
          "execution_count": 2
        }
      ]
    },
    {
      "cell_type": "markdown",
      "source": [
        "Cleaning the datasets"
      ],
      "metadata": {
        "id": "zufJ1defaU0G"
      }
    },
    {
      "cell_type": "code",
      "source": [
        "# remove the rows with empty data\n",
        "hepatitis_df = hepatitis_df[~hepatitis_df.eq('?').any(1)]\n",
        "messidor_df = messidor_df[~messidor_df.eq('?').any(1)]\n",
        "\n",
        "#NEW:taking average of coloumns 2-7 and 8-16.\n",
        "messidor_df[['2','3','4','5','6','7']].mean(axis=1)\n",
        "messidor_df[['8','9','10','11','12','13', '14', '15']].mean(axis=1)\n",
        "\n",
        "# transform into numpy arrays since they are more efficient than pandas df\n",
        "hepatitis_np = hepatitis_df.to_numpy()\n",
        "messidor_np = messidor_df.to_numpy()\n",
        "\n",
        "# normalize the datasets to help with feature scaling problems\n",
        "hepatitis_np = hepatitis_np.astype(float) \n",
        "hep_norm = (hepatitis_np - hepatitis_np.mean())/hepatitis_np.std()\n",
        "hep_norm[:,0] = hepatitis_np[:,0]\n",
        "\n",
        "messidor_np = messidor_np.astype(float)\n",
        "messidor_np = messidor_np[messidor_np[:,0] == 1.0]\n",
        "messidor_np = np.delete(messidor_np, 0, axis=1)\n",
        "mess_norm = (messidor_np - messidor_np.mean())/messidor_np.std()\n",
        "mess_norm[:,-1] = messidor_np[:,-1]+1"
      ],
      "metadata": {
        "id": "G9WUsL_aaf9N",
        "colab": {
          "base_uri": "https://localhost:8080/"
        },
        "outputId": "e97164b6-4689-4f5f-d626-89d8dd342d9c"
      },
      "execution_count": null,
      "outputs": [
        {
          "output_type": "stream",
          "name": "stdout",
          "text": [
            "[[1.0000000e+00 2.2000000e+01 2.2000000e+01 2.2000000e+01 1.9000000e+01\n",
            "  1.8000000e+01 1.4000000e+01 4.9895756e+01 1.7775994e+01 5.2709200e+00\n",
            "  7.7176100e-01 1.8632000e-02 6.8640000e-03 3.9230000e-03 3.9230000e-03\n",
            "  4.8690300e-01 1.0002500e-01 1.0000000e+00 0.0000000e+00]\n",
            " [1.0000000e+00 2.4000000e+01 2.4000000e+01 2.2000000e+01 1.8000000e+01\n",
            "  1.6000000e+01 1.3000000e+01 5.7709936e+01 2.3799994e+01 3.3254230e+00\n",
            "  2.3418500e-01 3.9030000e-03 3.9030000e-03 3.9030000e-03 3.9030000e-03\n",
            "  5.2090800e-01 1.4441400e-01 0.0000000e+00 0.0000000e+00]\n",
            " [1.0000000e+00 6.2000000e+01 6.0000000e+01 5.9000000e+01 5.4000000e+01\n",
            "  4.7000000e+01 3.3000000e+01 5.5831441e+01 2.7993933e+01 1.2687485e+01\n",
            "  4.8522820e+00 1.3938890e+00 3.7325200e-01 4.1817000e-02 7.7440000e-03\n",
            "  5.3090400e-01 1.2854800e-01 0.0000000e+00 1.0000000e+00]\n",
            " [1.0000000e+00 5.5000000e+01 5.3000000e+01 5.3000000e+01 5.0000000e+01\n",
            "  4.3000000e+01 3.1000000e+01 4.0467228e+01 1.8445954e+01 9.1189010e+00\n",
            "  3.0794280e+00 8.4026100e-01 2.7243400e-01 7.6530000e-03 1.5310000e-03\n",
            "  4.8328400e-01 1.1479000e-01 0.0000000e+00 0.0000000e+00]\n",
            " [1.0000000e+00 4.4000000e+01 4.4000000e+01 4.4000000e+01 4.1000000e+01\n",
            "  3.9000000e+01 2.7000000e+01 1.8026254e+01 8.5707090e+00 4.1038100e-01\n",
            "  0.0000000e+00 0.0000000e+00 0.0000000e+00 0.0000000e+00 0.0000000e+00\n",
            "  4.7593500e-01 1.2357200e-01 0.0000000e+00 1.0000000e+00]\n",
            " [1.0000000e+00 4.4000000e+01 4.3000000e+01 4.1000000e+01 4.1000000e+01\n",
            "  3.7000000e+01 2.9000000e+01 2.8356400e+01 6.9356360e+00 2.3057710e+00\n",
            "  3.2372400e-01 0.0000000e+00 0.0000000e+00 0.0000000e+00 0.0000000e+00\n",
            "  5.0283100e-01 1.2674100e-01 0.0000000e+00 1.0000000e+00]\n",
            " [0.0000000e+00 2.9000000e+01 2.9000000e+01 2.9000000e+01 2.7000000e+01\n",
            "  2.5000000e+01 1.6000000e+01 1.5448398e+01 9.1138190e+00 1.6334930e+00\n",
            "  0.0000000e+00 0.0000000e+00 0.0000000e+00 0.0000000e+00 0.0000000e+00\n",
            "  5.4174300e-01 1.3957500e-01 0.0000000e+00 1.0000000e+00]\n",
            " [1.0000000e+00 6.0000000e+00 6.0000000e+00 6.0000000e+00 6.0000000e+00\n",
            "  2.0000000e+00 1.0000000e+00 2.0679649e+01 9.4977860e+00 1.2236600e+00\n",
            "  1.5038200e-01 0.0000000e+00 0.0000000e+00 0.0000000e+00 0.0000000e+00\n",
            "  5.7631800e-01 7.1071000e-02 1.0000000e+00 0.0000000e+00]\n",
            " [1.0000000e+00 2.2000000e+01 2.1000000e+01 1.8000000e+01 1.5000000e+01\n",
            "  1.3000000e+01 1.0000000e+01 6.6691933e+01 2.3545543e+01 6.1511170e+00\n",
            "  4.9637200e-01 0.0000000e+00 0.0000000e+00 0.0000000e+00 0.0000000e+00\n",
            "  5.0007300e-01 1.1679300e-01 0.0000000e+00 1.0000000e+00]\n",
            " [1.0000000e+00 7.9000000e+01 7.5000000e+01 7.3000000e+01 7.1000000e+01\n",
            "  6.4000000e+01 4.7000000e+01 2.2141784e+01 1.0054384e+01 8.7463300e-01\n",
            "  9.9780000e-02 2.3386000e-02 0.0000000e+00 0.0000000e+00 0.0000000e+00\n",
            "  5.6095900e-01 1.0913400e-01 0.0000000e+00 1.0000000e+00]]\n"
          ]
        }
      ]
    },
    {
      "cell_type": "markdown",
      "source": [
        "Distribution of the positive and negative classes"
      ],
      "metadata": {
        "id": "8OKcsmA9swKN"
      }
    },
    {
      "cell_type": "code",
      "source": [
        "class_dis1 = np.bincount(hepatitis_np[:,0].astype(int))\n",
        "print(\"Dataset 1\")\n",
        "print(\"Total number of patients: \" + str(hepatitis_np.shape[0]))\n",
        "print(\"The number of patients who die: \" + str(class_dis1[1]))\n",
        "print(\"The number of patients who live: \" + str(class_dis1[2]))\n",
        "print()\n",
        "class_dis2 = np.bincount(messidor_np[:,-1].astype(int))\n",
        "print(\"Dataset 2\")\n",
        "print(\"Total number of patients: \" + str(messidor_np.shape[0]))\n",
        "print(\"The number of negative patients: \" + str(class_dis2[0]))\n",
        "print(\"The number of positive patients: \" + str(class_dis2[1]))"
      ],
      "metadata": {
        "colab": {
          "base_uri": "https://localhost:8080/"
        },
        "id": "kXuYleEvtoyQ",
        "outputId": "5d314ed5-5d09-4eef-c9b3-3ecc3bd93f37"
      },
      "execution_count": null,
      "outputs": [
        {
          "output_type": "stream",
          "name": "stdout",
          "text": [
            "Dataset 1\n",
            "Total number of patients: 80\n",
            "The number of patients who die: 13\n",
            "The number of patients who live: 67\n",
            "\n",
            "Dataset 2\n",
            "Total number of patients: 1147\n",
            "The number of negative patients: 536\n",
            "The number of positive patients: 611\n"
          ]
        }
      ]
    },
    {
      "cell_type": "markdown",
      "source": [
        "Distribution of some features"
      ],
      "metadata": {
        "id": "By5XoIaBvtg-"
      }
    },
    {
      "cell_type": "code",
      "source": [
        "print(\"Dataset 1\")\n",
        "avg_age = hepatitis_np[:,1].mean()\n",
        "print(\"The average age is \" + str(int(avg_age)))\n",
        "sex_dis = np.bincount(hepatitis_np[:,2].astype(int))\n",
        "print(\"The number of male patients: \" + str(sex_dis[1]))\n",
        "print(\"The number of female patients: \" + str(sex_dis[2]))\n",
        "steroid_dis = np.bincount(hepatitis_np[:,3].astype(int))\n",
        "print(\"The number of patients who do not take steroid: \" + str(steroid_dis[1]))\n",
        "print(\"The number of patients who take steroid: \" + str(steroid_dis[2]))\n",
        "av_dis = np.bincount(hepatitis_np[:,4].astype(int))\n",
        "print(\"The number of patients who do not take antivirals: \" + str(av_dis[1]))\n",
        "print(\"The number of patients who take antivirals: \" + str(av_dis[2]))\n",
        "f_dis = np.bincount(hepatitis_np[:,5].astype(int))\n",
        "print(\"The number of patients who do not experience fatigue: \" + str(f_dis[1]))\n",
        "print(\"The number of patients who experience fatigue: \" + str(f_dis[2]))\n",
        "m_dis = np.bincount(hepatitis_np[:,6].astype(int))\n",
        "print(\"The number of patients who do not experience malaise: \" + str(m_dis[1]))\n",
        "print(\"The number of patients who experience malaise: \" + str(m_dis[2]))\n",
        "a_dis = np.bincount(hepatitis_np[:,7].astype(int))\n",
        "print(\"The number of patients who do not suffer from anorexia: \" + str(a_dis[1]))\n",
        "print(\"The number of patients who suffer from anorexia: \" + str(a_dis[2]))\n",
        "lb_dis = np.bincount(hepatitis_np[:,8].astype(int))\n",
        "print(\"The number of patients who do not have a big liver \" + str(lb_dis[1]))\n",
        "print(\"The number of patients who have a big liver: \" + str(lb_dis[2]))\n",
        "\n",
        "print()\n",
        "print(\"Dataset 2\")\n",
        "qa_dis = np.bincount(messidor_np[:,0].astype(int))\n",
        "print(\"The number of patients without severe retinal abnormality \" + str(qa_dis[0]))\n",
        "print(\"The number of patients with severe retinal abnormality: \" + str(qa_dis[1]))\n",
        "avg_diam = messidor_np[:,16].mean()\n",
        "print(\"The average diameter of the optic disc: \" + str(avg_diam))"
      ],
      "metadata": {
        "colab": {
          "base_uri": "https://localhost:8080/"
        },
        "id": "a69GxseovzxN",
        "outputId": "4fb50a32-a22a-4040-ebd4-ed12b348b73b"
      },
      "execution_count": null,
      "outputs": [
        {
          "output_type": "stream",
          "name": "stdout",
          "text": [
            "Dataset 1\n",
            "The average age is 40\n",
            "The number of male patients: 69\n",
            "The number of female patients: 11\n",
            "The number of patients who do not take steroid: 38\n",
            "The number of patients who take steroid: 42\n",
            "The number of patients who do not take antivirals: 21\n",
            "The number of patients who take antivirals: 59\n",
            "The number of patients who do not experience fatigue: 52\n",
            "The number of patients who experience fatigue: 28\n",
            "The number of patients who do not experience malaise: 31\n",
            "The number of patients who experience malaise: 49\n",
            "The number of patients who do not suffer from anorexia: 12\n",
            "The number of patients who suffer from anorexia: 68\n",
            "The number of patients who do not have a big liver 13\n",
            "The number of patients who have a big liver: 67\n",
            "\n",
            "Dataset 2\n",
            "The number of patients without severe retinal abnormality 94\n",
            "The number of patients with severe retinal abnormality: 1053\n",
            "The average diameter of the optic disc: 0.10835998692240628\n"
          ]
        }
      ]
    },
    {
      "cell_type": "markdown",
      "source": [
        "# Task 2: Implementing KNN and DT"
      ],
      "metadata": {
        "id": "G2WevW9zI1-o"
      }
    },
    {
      "cell_type": "markdown",
      "source": [
        "KNN Class"
      ],
      "metadata": {
        "id": "6qeRp6BZvZu7"
      }
    },
    {
      "cell_type": "code",
      "source": [
        "euclidean = lambda x1, x2: np.sqrt(np.sum((x1 - x2)**2, axis=-1))\n",
        "manhattan = lambda x1, x2: np.sum(np.abs(x1 - x2), axis=-1)\n",
        "cosine_sim = lambda x1, x2: (np.sum(x1*x2, axis=-1))/(np.sqrt(np.sum(x1**2))*np.sqrt(np.sum(x2**2)))\n",
        "\n",
        "class KNN:\n",
        "\n",
        "  def __init__(self, dist_fn = euclidean):\n",
        "    self.dist_fn = dist_fn\n",
        "\n",
        "  def fit(self, x, y, k=1):\n",
        "    self.x = x\n",
        "    self.y = y.astype(int)\n",
        "    self.k = k\n",
        "    self.max_y = int(np.max(y)) + 1\n",
        "    return self\n",
        "\n",
        "  def predict(self, x_test):\n",
        "    number_of_tests = x_test.shape[0]\n",
        "    distances = self.dist_fn(self.x[None,:,:], x_test[:,None,:])\n",
        "    knn = np.zeros((number_of_tests, self.k), dtype=int)\n",
        "    y_prob = np.zeros((number_of_tests, self.max_y))\n",
        "    for i in range(number_of_tests):\n",
        "      knn[i,:] = np.argsort(distances[i])[:self.k]\n",
        "      y_prob[i,:] = np.bincount(self.y[knn[i,:]], minlength=self.max_y)\n",
        "    y_prob = y_prob/self.k\n",
        "    return y_prob, knn\n"
      ],
      "metadata": {
        "id": "F44oXq-T2BJJ"
      },
      "execution_count": null,
      "outputs": []
    },
    {
      "cell_type": "markdown",
      "source": [
        "Cost Functions"
      ],
      "metadata": {
        "id": "l8a29w-6RcAx"
      }
    },
    {
      "cell_type": "code",
      "source": [
        "def missclassification(labels):\n",
        "  class_probs = np.bincount(labels) / len(labels)\n",
        "  return 1 - np.max(class_probs)\n",
        "\n",
        "def entropy(labels):\n",
        "  class_probs = np.bincount(labels) / len(labels)\n",
        "  class_probs = class_probs[class_probs > 0]\n",
        "  return -np.sum(class_probs * np.log2(class_probs))\n",
        "\n",
        "def gini_index(labels):\n",
        "  class_probs = np.bincount(labels) / len(labels)\n",
        "  return 1 - np.sum(np.square(class_probs))\n"
      ],
      "metadata": {
        "id": "BcPsfPgYReBR"
      },
      "execution_count": null,
      "outputs": []
    },
    {
      "cell_type": "markdown",
      "source": [
        "Node Class"
      ],
      "metadata": {
        "id": "RRVJJ6AfjgR3"
      }
    },
    {
      "cell_type": "code",
      "source": [
        "#initializing tree structure\n",
        "class Node:\n",
        "  def __init__(self, data_indices, parent):\n",
        "    self.right= None\n",
        "    self.left= None\n",
        "    self.split_feature=None\n",
        "    self.split_value=None\n",
        "    self.data_indices=data_indices\n",
        "    if parent:\n",
        "      self.depth= parent.depth +1\n",
        "      self.num_classes= parent.num_classes\n",
        "      self.data= parent.data\n",
        "      self.labels= parent.labels\n",
        "      class_prob = np.bincount(self.labels[data_indices], minlength=self.num_classes)\n",
        "      self.class_prob = class_prob / np.sum(class_prob)\n",
        "\n"
      ],
      "metadata": {
        "id": "sm5uvZ2vDyul"
      },
      "execution_count": null,
      "outputs": []
    },
    {
      "cell_type": "markdown",
      "source": [
        "Greedy Split"
      ],
      "metadata": {
        "id": "wJsWZn6NUL4k"
      }
    },
    {
      "cell_type": "code",
      "source": [
        "def greedy_test(node, cost_fn):\n",
        "  best_cost = np.inf\n",
        "  best_feature, best_value = None, None\n",
        "  num_instances, num_features = node.data.shape\n",
        "  data_sorted = np.sort(node.data[node.data_indices], axis=0)\n",
        "  test_candidates = (data_sorted[1:] + data_sorted[:-1])/2\n",
        "  for f in range(num_features):\n",
        "    data_f = node.data[node.data_indices, f]\n",
        "    for test in test_candidates[:, f]:\n",
        "      left = node.data_indices[data_f <= test]\n",
        "      right = node.data_indices[data_f > test]\n",
        "      if len(left) == 0 or len(right) == 0 :\n",
        "        continue\n",
        "      left_cost = cost_fn(node.labels[left])\n",
        "      right_cost = cost_fn(node.labels[right])\n",
        "      cost = (left.shape[0]*left_cost + right.shape[0]*right_cost)/num_instances\n",
        "      if cost < best_cost:\n",
        "        best_cost = cost\n",
        "        best_feature = f\n",
        "        best_value = test\n",
        "  return best_cost, best_feature, best_value\n"
      ],
      "metadata": {
        "id": "W2MeVdRAUN_D"
      },
      "execution_count": null,
      "outputs": []
    },
    {
      "cell_type": "markdown",
      "source": [
        "DT class"
      ],
      "metadata": {
        "id": "O5rlW_8OUIN8"
      }
    },
    {
      "cell_type": "code",
      "source": [
        "class DecisionTree:\n",
        "  def __init__(self, num_classes=None, max_depth=3, cost_fn=missclassification, min_leaf_instances=1):\n",
        "    self.max_depth = max_depth\n",
        "    self.root = None\n",
        "    self.cost_fn = cost_fn\n",
        "    self.num_classes = num_classes\n",
        "    self.min_leaf_instances = min_leaf_instances\n",
        "\n",
        "  def fit(self, data, labels):\n",
        "    self.data = data\n",
        "    self.labels = labels\n",
        "    if self.num_classes is None:\n",
        "      self.num_classes = np.max(labels)+1\n",
        "    #initalizing DT\n",
        "    self.root=Node(np.arange(data.shape[0]), None)\n",
        "    self.root.data = data\n",
        "    self.root.labels = labels\n",
        "    self.root.num_classes = self.num_classes\n",
        "    self.root.depth = 0\n",
        "    #buils rest of the tree\n",
        "    self.fitter(self.root)\n",
        "    return self\n",
        "\n",
        "  def fitter(self,node):\n",
        "    #recursion termination condition\n",
        "    if node.depth == self.max_depth or len(node.data_indices) <= self.min_leaf_instances:\n",
        "      return\n",
        "    cost, split_feature, split_value = greedy_test(node, self.cost_fn)\n",
        "    if np.isinf(cost):\n",
        "      return\n",
        "    node.split_feature = split_feature\n",
        "    node.split_value = split_value\n",
        "    test = node.data[node.data_indices, split_feature] <= split_value\n",
        "    left = Node(node.data_indices[test], node)\n",
        "    right = Node(node.data_indices[np.logical_not(test)], node)\n",
        "    self.fitter(left)\n",
        "    self.fitter(right)\n",
        "    node.left = left\n",
        "    node.right = right\n",
        "\n",
        "  def predict(self, data_test):\n",
        "    class_probs = np.zeros((data_test.shape[0], self.num_classes))\n",
        "    for n,x in enumerate(data_test):\n",
        "      node = self.root\n",
        "      while node.left:\n",
        "        if x[node.split_feature] <= node.split_value:\n",
        "          node = node.left\n",
        "        else:\n",
        "          node = node.right\n",
        "      class_probs[n,:] = node.class_prob\n",
        "    return class_probs\n",
        "    "
      ],
      "metadata": {
        "id": "UUQyb1fBUJ7p"
      },
      "execution_count": null,
      "outputs": []
    },
    {
      "cell_type": "markdown",
      "source": [
        "Evaluate accuracy"
      ],
      "metadata": {
        "id": "hr5-XQdPVq7T"
      }
    },
    {
      "cell_type": "code",
      "source": [
        "def evaluate_acc(true_labels, target_labels):\n",
        "    acc = np.sum(target_labels==true_labels)/len(target_labels)\n",
        "    return acc"
      ],
      "metadata": {
        "id": "XeUZqJ2MVsL-"
      },
      "execution_count": null,
      "outputs": []
    },
    {
      "cell_type": "markdown",
      "source": [
        "# Task 3: Running Experiments"
      ],
      "metadata": {
        "id": "x2eUSgYsIdmI"
      }
    },
    {
      "cell_type": "markdown",
      "source": [
        "Splitting the data in train/test sets"
      ],
      "metadata": {
        "id": "KNwiax62JFbW"
      }
    },
    {
      "cell_type": "code",
      "source": [
        "hep_x_train, hep_x_test, hep_y_train, hep_y_test = \\\n",
        "train_test_split(hep_norm[:,1:], hep_norm[:,0], test_size=0.2, random_state=1, shuffle=True)\n",
        "hep_y_train, hep_y_test = hep_y_train.astype(int), hep_y_test.astype(int)\n",
        "\n",
        "mess_x_train, mess_x_test, mess_y_train, mess_y_test = \\\n",
        "train_test_split(mess_norm[:,:-1], mess_norm[:,-1], test_size=0.2, random_state=1, shuffle=True)\n",
        "mess_y_train, mess_y_test = mess_y_train.astype(int), mess_y_test.astype(int)"
      ],
      "metadata": {
        "id": "aYI6Va68LG7s"
      },
      "execution_count": null,
      "outputs": []
    },
    {
      "cell_type": "markdown",
      "source": [
        "Function that run the models and return the accuracy"
      ],
      "metadata": {
        "id": "ai1iAS19RemM"
      }
    },
    {
      "cell_type": "code",
      "source": [
        "def get_knn_acc(x_train, y_train, x_test, y_test, k, dist_fn):\n",
        "  knn = KNN(dist_fn)\n",
        "  knn.fit(x_train, y_train, k)\n",
        "  y_prob, knn_results = knn.predict(x_test)\n",
        "  predict_labels = np.argmax(y_prob, axis=-1)\n",
        "  return evaluate_acc(y_test, predict_labels)\n",
        "\n",
        "def get_dt_acc(x_train, y_train, x_test, y_test, d, cost_fn):\n",
        "  dt = DecisionTree(max_depth=d, cost_fn=cost_fn)\n",
        "  dt.fit(x_train, y_train)\n",
        "  y_prob = dt.predict(x_test)\n",
        "  predict_labels = np.argmax(y_prob, axis=-1)\n",
        "  return evaluate_acc(y_test, predict_labels)"
      ],
      "metadata": {
        "id": "9V4MLau3RkrM"
      },
      "execution_count": null,
      "outputs": []
    },
    {
      "cell_type": "markdown",
      "source": [
        "Finding the best two features for each datasets for knn\n",
        "\n"
      ],
      "metadata": {
        "id": "4k50XPrzrLrG"
      }
    },
    {
      "cell_type": "code",
      "source": [
        "hep_x1, hep_x2, hep_y1, hep_y2 =\\\n",
        "train_test_split(hep_norm[:,1:], hep_norm[:,0], test_size=0.2, random_state=1,shuffle=True)\n",
        "\n",
        "mess_x1, mess_x2, mess_y1, mess_y2 =\\\n",
        "train_test_split(mess_norm[:,:-1], mess_norm[:,-1], test_size=0.2, random_state=1, shuffle=True)\n",
        "\n",
        "hep_knn = KNN().fit(hep_x1, hep_y1)\n",
        "yp,_ = hep_knn.predict(hep_x2)\n",
        "pl = np.argmax(yp, axis=-1)\n",
        "initial_acc = evaluate_acc(hep_y2, pl)\n",
        "acc_array = np.full(hep_x1.shape[1], initial_acc)\n",
        "new_x = hep_x2.copy()\n",
        "for i in range(hep_x1.shape[1]):\n",
        "  np.random.shuffle(new_x[:,i])\n",
        "  y_prob, _ = hep_knn.predict(new_x)\n",
        "  predict_labels = np.argmax(y_prob, axis=-1)\n",
        "  acc = evaluate_acc(hep_y2, predict_labels)\n",
        "  acc_array[i] = acc\n",
        "  new_x = hep_x1.copy()\n",
        "\n",
        "hep_idx = np.argpartition(acc_array, 2)\n",
        "knn_hep_att1 = hep_idx[0]\n",
        "knn_hep_att2 = hep_idx[1]\n",
        "knn_hep_x_train = hep_x_train[:,[knn_hep_att1, knn_hep_att2]]\n",
        "knn_hep_x_test = hep_x_test[:,[knn_hep_att1, knn_hep_att2]]\n",
        "\n",
        "mess_knn = KNN().fit(mess_x1, mess_y1)\n",
        "yp,_ = mess_knn.predict(mess_x2)\n",
        "pl = np.argmax(yp, axis=-1)\n",
        "initial_acc = evaluate_acc(mess_y2, pl)\n",
        "acc_array = np.full(mess_x1.shape[1], initial_acc)\n",
        "new_x = mess_x2.copy()\n",
        "for i in range(mess_x1.shape[1]):\n",
        "  np.random.shuffle(new_x[:,i])\n",
        "  y_prob2, _ = mess_knn.predict(new_x)\n",
        "  predict_labels = np.argmax(y_prob2, axis=-1)\n",
        "  acc = evaluate_acc(mess_y2, predict_labels)\n",
        "  acc_array[i] = acc\n",
        "  new_x = mess_x2.copy()\n",
        "\n",
        "mess_idx = np.argpartition(acc_array, 2)\n",
        "knn_mess_att1 = mess_idx[0]\n",
        "knn_mess_att2 = mess_idx[1]\n",
        "knn_mess_x_train = mess_x_train[:,[knn_mess_att1, knn_mess_att2]]\n",
        "knn_mess_x_test = mess_x_test[:,[knn_mess_att1, knn_mess_att2]]"
      ],
      "metadata": {
        "colab": {
          "base_uri": "https://localhost:8080/"
        },
        "id": "2xLlD4d7WXtq",
        "outputId": "815ce697-4b67-4215-fe43-dd6778013092"
      },
      "execution_count": null,
      "outputs": [
        {
          "output_type": "stream",
          "name": "stderr",
          "text": [
            "/usr/local/lib/python3.7/dist-packages/ipykernel_launcher.py:2: DeprecationWarning: elementwise comparison failed; this will raise an error in the future.\n",
            "  \n"
          ]
        }
      ]
    },
    {
      "cell_type": "markdown",
      "source": [
        "Finding the best two features for each datasets for DT"
      ],
      "metadata": {
        "id": "jSVj23Clveea"
      }
    },
    {
      "cell_type": "code",
      "source": [
        "hep_x1, hep_x2, hep_y1, hep_y2 =\\\n",
        "train_test_split(hep_norm[:,1:], hep_norm[:,0], test_size=0.2, random_state=1,shuffle=True)\n",
        "\n",
        "mess_x1, mess_x2, mess_y1, mess_y2 =\\\n",
        "train_test_split(mess_norm[:,:-1], mess_norm[:,-1], test_size=0.2, random_state=1, shuffle=True)\n",
        "\n",
        "hep_dt = DecisionTree().fit(hep_x1, hep_y1.astype(int))\n",
        "yp = hep_dt.predict(hep_x2)\n",
        "pl = np.argmax(yp, axis=-1)\n",
        "initial_acc = evaluate_acc(hep_y2, pl)\n",
        "acc_array = np.full(hep_x1.shape[1], initial_acc)\n",
        "new_x = hep_x2.copy()\n",
        "for i in range(hep_x1.shape[1]):\n",
        "  np.random.shuffle(new_x[:,i])\n",
        "  y_prob = hep_dt.predict(new_x)\n",
        "  predict_labels = np.argmax(y_prob, axis=-1)\n",
        "  acc = evaluate_acc(hep_y2, predict_labels)\n",
        "  acc_array[i] = acc\n",
        "  new_x = hep_x1.copy()\n",
        "\n",
        "hep_idx = np.argpartition(acc_array, 2)\n",
        "dt_hep_att1 = hep_idx[0]\n",
        "dt_hep_att2 = hep_idx[1]\n",
        "dt_hep_x_train = hep_x_train[:,[dt_hep_att1, dt_hep_att2]]\n",
        "dt_hep_x_test = hep_x_test[:,[dt_hep_att1, dt_hep_att2]]\n",
        "\n",
        "mess_dt = DecisionTree().fit(mess_x1, mess_y1.astype(int))\n",
        "yp = mess_dt.predict(mess_x2)\n",
        "pl = np.argmax(yp, axis=-1)\n",
        "initial_acc = evaluate_acc(mess_y2, pl)\n",
        "acc_array = np.full(mess_x1.shape[1], initial_acc)\n",
        "new_x = mess_x2.copy()\n",
        "for i in range(mess_x1.shape[1]):\n",
        "  np.random.shuffle(new_x[:,i])\n",
        "  y_prob2 = mess_dt.predict(new_x)\n",
        "  predict_labels = np.argmax(y_prob2, axis=-1)\n",
        "  acc = evaluate_acc(mess_y2, predict_labels)\n",
        "  acc_array[i] = acc\n",
        "  new_x = mess_x2.copy()\n",
        "\n",
        "mess_idx = np.argpartition(acc_array, 2)\n",
        "dt_mess_att1 = mess_idx[0]\n",
        "dt_mess_att2 = mess_idx[1]\n",
        "dt_mess_x_train = mess_x_train[:,[dt_mess_att1, dt_mess_att2]]\n",
        "dt_mess_x_test = mess_x_test[:,[dt_mess_att1, dt_mess_att2]]"
      ],
      "metadata": {
        "colab": {
          "base_uri": "https://localhost:8080/"
        },
        "id": "2UqAb7-DfdKE",
        "outputId": "70c568c5-5e08-4e37-bc50-91fd21836e15"
      },
      "execution_count": null,
      "outputs": [
        {
          "output_type": "stream",
          "name": "stderr",
          "text": [
            "/usr/local/lib/python3.7/dist-packages/ipykernel_launcher.py:2: DeprecationWarning: elementwise comparison failed; this will raise an error in the future.\n",
            "  \n"
          ]
        }
      ]
    },
    {
      "cell_type": "markdown",
      "source": [
        "Compute Accuracy for KNN at K=1 and dist_fn=euclidian"
      ],
      "metadata": {
        "id": "IvH8qmGUNyVq"
      }
    },
    {
      "cell_type": "code",
      "source": [
        "knn_hep_train_acc = get_knn_acc(knn_hep_x_train, hep_y_train, knn_hep_x_train, hep_y_train, k=1, dist_fn=euclidean)\n",
        "print(\"Training KNN accuracy of Dataset #1: \" + str(knn_hep_train_acc))\n",
        "\n",
        "knn_hep_test_acc = get_knn_acc(knn_hep_x_train, hep_y_train, knn_hep_x_test, hep_y_test, k=1, dist_fn=euclidean)\n",
        "print(\"Testing KNN accuracy of Dataset #1: \" + str(knn_hep_test_acc))\n",
        "\n",
        "knn_mess_train_acc = get_knn_acc(knn_mess_x_train, mess_y_train, knn_mess_x_train, mess_y_train, k=1, dist_fn=euclidean)\n",
        "print(\"Training KNN accuracy of Dataset #2: \" + str(knn_mess_train_acc))\n",
        "\n",
        "knn_mess_test_acc = get_knn_acc(knn_mess_x_train, mess_y_train, knn_mess_x_test, mess_y_test, k=1, dist_fn=euclidean)\n",
        "print(\"Testing KNN accuracy of Dataset #2: \" + str(knn_mess_test_acc))\n",
        "\n",
        "plt.bar([\"Training 1\", \"Testing 1\"], [knn_hep_train_acc, knn_hep_test_acc], width=0.2)\n",
        "plt.bar([\"Training 2\", \"Testing 2\"], [knn_mess_train_acc, knn_mess_test_acc], width=0.2)\n",
        "plt.savefig(\"AccuraciesKnn.png\")\n"
      ],
      "metadata": {
        "colab": {
          "base_uri": "https://localhost:8080/",
          "height": 338
        },
        "id": "K4UKoitGN1Kk",
        "outputId": "cc9d7368-b59c-4aec-877e-f135ff049afc"
      },
      "execution_count": null,
      "outputs": [
        {
          "output_type": "stream",
          "name": "stdout",
          "text": [
            "Training KNN accuracy of Dataset #1: 0.828125\n",
            "Testing KNN accuracy of Dataset #1: 0.875\n",
            "Training KNN accuracy of Dataset #2: 0.7415485278080698\n",
            "Testing KNN accuracy of Dataset #2: 0.7130434782608696\n"
          ]
        },
        {
          "output_type": "display_data",
          "data": {
            "text/plain": [
              "<Figure size 432x288 with 1 Axes>"
            ],
            "image/png": "[encoded data removed]"
          },
          "metadata": {
            "needs_background": "light"
          }
        }
      ]
    },
    {
      "cell_type": "markdown",
      "source": [
        "Compute Accuracy for DT at maxHeight=3 and cost_fn=missclassification"
      ],
      "metadata": {
        "id": "IxwZTQPhSDUz"
      }
    },
    {
      "cell_type": "code",
      "source": [
        "dt_hep_train_acc = get_dt_acc(dt_hep_x_train, hep_y_train, dt_hep_x_train, hep_y_train, d=3, cost_fn=missclassification)\n",
        "print(\"Training DT accuracy of Dataset #1: \" + str(dt_hep_train_acc))\n",
        "\n",
        "dt_hep_test_acc = get_dt_acc(dt_hep_x_train, hep_y_train, dt_hep_x_test, hep_y_test, d=3, cost_fn=missclassification)\n",
        "print(\"Testing DT accuracy of Dataset #1: \" + str(dt_hep_test_acc))\n",
        "\n",
        "dt_mess_train_acc = get_dt_acc(dt_mess_x_train, mess_y_train, dt_mess_x_train, mess_y_train, d=3, cost_fn=missclassification)\n",
        "print(\"Training DT accuracy of Dataset #2: \" + str(dt_mess_train_acc))\n",
        "\n",
        "dt_mess_test_acc = get_dt_acc(dt_mess_x_train, mess_y_train, dt_mess_x_test, mess_y_test, d=3, cost_fn=missclassification)\n",
        "print(\"Testing DT accuracy of Dataset #2: \" + str(dt_mess_test_acc))\n",
        "\n",
        "plt.bar([\"Training 1\", \"Testing 1\"], [dt_hep_train_acc, dt_hep_test_acc], width=0.2)\n",
        "plt.bar([\"Training 2\", \"Testing 2\"], [dt_mess_train_acc, dt_mess_test_acc], width=0.2)\n",
        "plt.savefig(\"Accuracies.png\")"
      ],
      "metadata": {
        "colab": {
          "base_uri": "https://localhost:8080/",
          "height": 338
        },
        "id": "fU4YLaolSJfm",
        "outputId": "aeacfc8f-d64d-49d1-8356-67757b2a1e66"
      },
      "execution_count": null,
      "outputs": [
        {
          "output_type": "stream",
          "name": "stdout",
          "text": [
            "Training DT accuracy of Dataset #1: 0.828125\n",
            "Testing DT accuracy of Dataset #1: 0.875\n",
            "Training DT accuracy of Dataset #2: 0.6401308615049073\n",
            "Testing DT accuracy of Dataset #2: 0.6695652173913044\n"
          ]
        },
        {
          "output_type": "display_data",
          "data": {
            "text/plain": [
              "<Figure size 432x288 with 1 Axes>"
            ],
            "image/png": "[encoded data removed]"
          },
          "metadata": {
            "needs_background": "light"
          }
        }
      ]
    },
    {
      "cell_type": "markdown",
      "source": [
        "split training into training and validation"
      ],
      "metadata": {
        "id": "cZuLpuMbdIlo"
      }
    },
    {
      "cell_type": "code",
      "source": [
        "# split training into training and validation for knn\n",
        "knn_hep_x_train_tr, knn_hep_x_train_va, hep_y_train_tr, hep_y_train_va = \\\n",
        "train_test_split(knn_hep_x_train, hep_y_train, test_size=0.4, random_state=1, shuffle=True)\n",
        "\n",
        "knn_mess_x_train_tr, knn_mess_x_train_va, mess_y_train_tr, mess_y_train_va = \\\n",
        "train_test_split(knn_mess_x_train, mess_y_train, test_size=0.4, random_state=1, shuffle=True)\n",
        "\n",
        "# split training into training and validation for dt\n",
        "dt_hep_x_train_tr, dt_hep_x_train_va, hep_y_train_tr, hep_y_train_va = \\\n",
        "train_test_split(dt_hep_x_train, hep_y_train, test_size=0.4, random_state=1, shuffle=True)\n",
        "\n",
        "dt_mess_x_train_tr, dt_mess_x_train_va, mess_y_train_tr, mess_y_train_va = \\\n",
        "train_test_split(dt_mess_x_train, mess_y_train, test_size=0.4, random_state=1, shuffle=True)"
      ],
      "metadata": {
        "id": "KRvCWBDmd4rP"
      },
      "execution_count": null,
      "outputs": []
    },
    {
      "cell_type": "markdown",
      "source": [
        "Test different K values"
      ],
      "metadata": {
        "id": "Et1m9xfyfaVR"
      }
    },
    {
      "cell_type": "code",
      "source": [
        "hep_k_choice = []\n",
        "hep_k_acc = []\n",
        "mess_k_choice = []\n",
        "mess_k_acc = []\n",
        "\n",
        "for k in range(1,15):\n",
        "  acc = get_knn_acc(knn_hep_x_train_tr, hep_y_train_tr, knn_hep_x_train_va, hep_y_train_va, k=k, dist_fn=euclidean)\n",
        "  hep_k_choice.append(k)\n",
        "  hep_k_acc.append(acc)\n",
        "\n",
        "  acc = get_knn_acc(knn_mess_x_train_tr, mess_y_train_tr, knn_mess_x_train_va, mess_y_train_va, k=k, dist_fn=euclidean)\n",
        "  mess_k_choice.append(k)\n",
        "  mess_k_acc.append(acc)\n",
        "\n",
        "# use best k on test data\n",
        "best_hep_k = hep_k_choice[hep_k_acc.index(max(hep_k_acc))]\n",
        "best_hep_knn_acc = get_knn_acc(hep_x_train, hep_y_train, hep_x_test, hep_y_test, k=best_hep_k, dist_fn=euclidean)\n",
        "print(\"Best K for dataset #1: \" + str(best_hep_k) + \", Test accuracy: \" + str(best_hep_knn_acc))\n",
        "\n",
        "best_mess_k = mess_k_choice[mess_k_acc.index(max(mess_k_acc))]\n",
        "best_mess_knn_acc = get_knn_acc(mess_x_train, mess_y_train, mess_x_test, mess_y_test, k=best_mess_k, dist_fn=euclidean)\n",
        "print(\"Best K for dataset #2: \" + str(best_mess_k) + \", Test accuracy: \" + str(best_mess_knn_acc))\n",
        "\n",
        "# plot the results\n",
        "fig, axs = plt.subplots(2)\n",
        "axs[0].plot(hep_k_choice, hep_k_acc, marker='o', color='blue', label='KNN Validation Dataset#1')\n",
        "axs[0].plot(best_hep_k, best_hep_knn_acc, marker='*', color='red', label='Testing #1')\n",
        "axs[0].xlabel='k'\n",
        "axs[0].ylabel='Accuracy'\n",
        "axs[0].legend(loc='best')\n",
        "\n",
        "axs[1].plot(mess_k_choice, mess_k_acc, marker='o', color='green', label='KNN Validation Dataset#2')\n",
        "axs[1].plot(best_mess_k, best_mess_knn_acc, marker='*', color='orange', label='Testing #2')\n",
        "axs[1].xlabel='k'\n",
        "axs[1].ylabel='Accuracy'\n",
        "axs[1].legend(loc='best')\n",
        "plt.savefig('KNN_chooseK.png',dpi=300)\n"
      ],
      "metadata": {
        "colab": {
          "base_uri": "https://localhost:8080/",
          "height": 302
        },
        "id": "mm0TJjhCfgBy",
        "outputId": "9467e58a-d1b1-43cd-cbff-6b6d17701933"
      },
      "execution_count": null,
      "outputs": [
        {
          "output_type": "stream",
          "name": "stdout",
          "text": [
            "Best K for dataset #1: 1, Test accuracy: 0.5625\n",
            "Best K for dataset #2: 1, Test accuracy: 0.6434782608695652\n"
          ]
        },
        {
          "output_type": "display_data",
          "data": {
            "text/plain": [
              "<Figure size 432x288 with 2 Axes>"
            ],
            "image/png": "[encoded data removed]"
          },
          "metadata": {
            "needs_background": "light"
          }
        }
      ]
    },
    {
      "cell_type": "markdown",
      "source": [
        "Check different tree depth"
      ],
      "metadata": {
        "id": "rd15Yrtt9ksA"
      }
    },
    {
      "cell_type": "code",
      "source": [
        "hep_d_choice = []\n",
        "hep_d_acc = []\n",
        "mess_d_choice = []\n",
        "mess_d_acc = []\n",
        "\n",
        "for d in range(1,15):\n",
        "  acc = get_dt_acc(dt_hep_x_train_tr, hep_y_train_tr, dt_hep_x_train_va, hep_y_train_va, d=d, cost_fn=missclassification)\n",
        "  hep_d_choice.append(d)\n",
        "  hep_d_acc.append(acc)\n",
        "\n",
        "  acc = get_dt_acc(dt_mess_x_train_tr, mess_y_train_tr, dt_mess_x_train_va, mess_y_train_va, d=d, cost_fn=missclassification)\n",
        "  mess_d_choice.append(d)\n",
        "  mess_d_acc.append(acc)\n",
        "\n",
        "# use best d on test data\n",
        "best_hep_d = hep_d_choice[hep_d_acc.index(max(hep_d_acc))]\n",
        "best_hep_dt_acc = get_dt_acc(hep_x_train, hep_y_train, hep_x_test, hep_y_test, d=best_hep_d, cost_fn=missclassification)\n",
        "print(\"Best max_depth for dataset #1: \" + str(best_hep_d) + \", Test accuracy: \" + str(best_hep_dt_acc))\n",
        "\n",
        "best_mess_d = mess_d_choice[mess_d_acc.index(max(mess_d_acc))]\n",
        "best_mess_dt_acc = get_dt_acc(mess_x_train, mess_y_train, mess_x_test, mess_y_test, d=best_mess_d, cost_fn=missclassification)\n",
        "print(\"Best max_depth for dataset #2: \" + str(best_mess_d) + \", Test accuracy: \" + str(best_mess_dt_acc))\n",
        "\n",
        "fig, axs = plt.subplots(2)\n",
        "axs[0].plot(hep_d_choice, hep_d_acc, marker='o', color='blue', label='DT Validation Dataset#1')\n",
        "axs[0].plot(best_hep_d, best_hep_dt_acc, marker='*', color='red', label='Testing #1')\n",
        "axs[0].xlabel='max_depth'\n",
        "axs[0].ylabel='Accuracy'\n",
        "axs[0].legend(loc='best')\n",
        "\n",
        "axs[1].plot(mess_d_choice, mess_d_acc, marker='o', color='green', label='DT Validation Dataset#2')\n",
        "axs[1].plot(best_mess_d, best_mess_dt_acc, marker='*', color='orange', label='Testing #2')\n",
        "axs[1].xlabel='max_depth'\n",
        "axs[1].ylabel='Accuracy'\n",
        "axs[1].legend(loc='best')\n",
        "plt.savefig('DT_chooseD.png',dpi=300)  "
      ],
      "metadata": {
        "colab": {
          "base_uri": "https://localhost:8080/",
          "height": 302
        },
        "id": "MlFfw8EB9nA_",
        "outputId": "69512ea2-c76f-4a9d-9378-d4062e45d6a3"
      },
      "execution_count": null,
      "outputs": [
        {
          "output_type": "stream",
          "name": "stdout",
          "text": [
            "Best max_depth for dataset #1: 1, Test accuracy: 0.6875\n",
            "Best max_depth for dataset #2: 2, Test accuracy: 0.5782608695652174\n"
          ]
        },
        {
          "output_type": "display_data",
          "data": {
            "text/plain": [
              "<Figure size 432x288 with 2 Axes>"
            ],
            "image/png": "[encoded data removed]"
          },
          "metadata": {
            "needs_background": "light"
          }
        }
      ]
    },
    {
      "cell_type": "markdown",
      "source": [
        "Trying out different distance functions"
      ],
      "metadata": {
        "id": "93SQGB90Fvb1"
      }
    },
    {
      "cell_type": "code",
      "source": [
        "hep_k_choice = []\n",
        "hep_k_acc = []\n",
        "mess_k_choice = []\n",
        "mess_k_acc = []\n",
        "\n",
        "for k in range(1,15):\n",
        "  acc = get_knn_acc(knn_hep_x_train_tr, hep_y_train_tr, knn_hep_x_train_va, hep_y_train_va, k=k, dist_fn=manhattan)\n",
        "  hep_k_choice.append(k)\n",
        "  hep_k_acc.append(acc)\n",
        "\n",
        "  acc = get_knn_acc(knn_mess_x_train_tr, mess_y_train_tr, knn_mess_x_train_va, mess_y_train_va, k=k, dist_fn=manhattan)\n",
        "  mess_k_choice.append(k)\n",
        "  mess_k_acc.append(acc)\n",
        "\n",
        "# use best k on test data\n",
        "best_hep_k_manh = hep_k_choice[hep_k_acc.index(max(hep_k_acc))]\n",
        "best_hep_knn_acc_manh = get_knn_acc(hep_x_train, hep_y_train, hep_x_test, hep_y_test, k=best_hep_k_manh, dist_fn=manhattan)\n",
        "print(\"Best K for dataset #1 with euclidean distance: \" + str(best_hep_k) + \", Test accuracy: \" + str(best_hep_knn_acc))\n",
        "print(\"Best K for dataset #1 with manhattan distance: \" + str(best_hep_k_manh) + \", Test accuracy: \" + str(best_hep_knn_acc_manh))\n",
        "\n",
        "best_mess_k_manh = mess_k_choice[mess_k_acc.index(max(mess_k_acc))]\n",
        "best_mess_knn_acc_manh = get_knn_acc(mess_x_train, mess_y_train, mess_x_test, mess_y_test, k=best_mess_k_manh, dist_fn=manhattan)\n",
        "print(\"Best K for dataset #2 with euclidean distance: \" + str(best_mess_k) + \", Test accuracy: \" + str(best_mess_knn_acc))\n",
        "print(\"Best K for dataset #2 with manhattan distance: \" + str(best_mess_k_manh) + \", Test accuracy: \" + str(best_mess_knn_acc_manh))\n",
        "\n",
        "plt.bar(['Euclidean #1', 'Manhattan #1'], [best_hep_knn_acc, best_hep_knn_acc_manh], width=0.2)\n",
        "plt.xlabel = 'Distance function'\n",
        "plt.ylabel = 'Accuracy at best K'\n",
        "plt.bar(['Euclidean #2', 'Manhattan #2'], [best_mess_knn_acc, best_mess_knn_acc_manh], width = 0.2, color='maroon')\n",
        "plt.savefig('KNN_diff_cost_Fn.png')"
      ],
      "metadata": {
        "colab": {
          "base_uri": "https://localhost:8080/",
          "height": 338
        },
        "id": "xV6E7TJcIKZi",
        "outputId": "2dad0af0-ad8c-4539-8307-125766bc8b75"
      },
      "execution_count": null,
      "outputs": [
        {
          "output_type": "stream",
          "name": "stdout",
          "text": [
            "Best K for dataset #1 with euclidean distance: 1, Test accuracy: 0.5625\n",
            "Best K for dataset #1 with manhattan distance: 1, Test accuracy: 0.5\n",
            "Best K for dataset #2 with euclidean distance: 1, Test accuracy: 0.6434782608695652\n",
            "Best K for dataset #2 with manhattan distance: 13, Test accuracy: 0.7086956521739131\n"
          ]
        },
        {
          "output_type": "display_data",
          "data": {
            "text/plain": [
              "<Figure size 432x288 with 1 Axes>"
            ],
            "image/png": "[encoded data removed]"
          },
          "metadata": {
            "needs_background": "light"
          }
        }
      ]
    },
    {
      "cell_type": "markdown",
      "source": [
        "Trying out different cost functions"
      ],
      "metadata": {
        "id": "_YfVEUhQ6XU_"
      }
    },
    {
      "cell_type": "code",
      "source": [
        "hep_d_choice_ent = []\n",
        "hep_d_acc_ent = []\n",
        "hep_d_choice_gini = []\n",
        "hep_d_acc_gini = []\n",
        "\n",
        "mess_d_choice_ent = []\n",
        "mess_d_acc_ent = []\n",
        "mess_d_choice_gini = []\n",
        "mess_d_acc_gini = []\n",
        "\n",
        "for k in range(1,15):\n",
        "  acc = get_dt_acc(dt_hep_x_train_tr, hep_y_train_tr, dt_hep_x_train_va, hep_y_train_va, d=d, cost_fn=entropy)\n",
        "  hep_d_choice_ent.append(k)\n",
        "  hep_d_acc_ent.append(acc)\n",
        "  acc = get_dt_acc(dt_hep_x_train_tr, hep_y_train_tr, dt_hep_x_train_va, hep_y_train_va, d=d, cost_fn=gini_index)\n",
        "  hep_d_choice_gini.append(k)\n",
        "  hep_d_acc_gini.append(acc)\n",
        "\n",
        "  acc = get_dt_acc(dt_mess_x_train_tr, mess_y_train_tr, dt_mess_x_train_va, mess_y_train_va, d=d, cost_fn=entropy)\n",
        "  mess_d_choice_ent.append(k)\n",
        "  mess_d_acc_ent.append(acc)\n",
        "  acc = get_dt_acc(dt_mess_x_train_tr, mess_y_train_tr, dt_mess_x_train_va, mess_y_train_va, d=d, cost_fn=gini_index)\n",
        "  mess_d_choice_gini.append(k)\n",
        "  mess_d_acc_gini.append(acc)\n",
        "\n",
        "# use best d on test data\n",
        "best_hep_d_ent = hep_d_choice_ent[hep_d_acc_ent.index(max(hep_d_acc_ent))]\n",
        "best_hep_dt_acc_ent = get_dt_acc(hep_x_train, hep_y_train, hep_x_test, hep_y_test, d=best_hep_d_ent, cost_fn=entropy)\n",
        "best_hep_d_gini = hep_d_choice_gini[hep_d_acc_gini.index(max(hep_d_acc_gini))]\n",
        "best_hep_dt_acc_gini = get_dt_acc(hep_x_train, hep_y_train, hep_x_test, hep_y_test, d=best_hep_d_gini, cost_fn=gini_index)\n",
        "print(\"Best max_depth for dataset #1 with missclassification: \" + str(best_hep_d) + \", Test accuracy: \" + str(best_hep_dt_acc))\n",
        "print(\"Best max_depth for dataset #1 with entropy: \" + str(best_hep_d_ent) + \", Test accuracy: \" + str(best_hep_dt_acc_ent))\n",
        "print(\"Best max_depth for dataset #1 with gini index: \" + str(best_hep_d_gini) + \", Test accuracy: \" + str(best_hep_dt_acc_gini))\n",
        "\n",
        "best_mess_d_ent = mess_d_choice_ent[mess_d_acc_ent.index(max(mess_d_acc_ent))]\n",
        "best_mess_dt_acc_ent = get_dt_acc(mess_x_train, mess_y_train, mess_x_test, mess_y_test, d=best_mess_d_ent, cost_fn=entropy)\n",
        "best_mess_d_gini = mess_d_choice_gini[mess_d_acc_gini.index(max(mess_d_acc_gini))]\n",
        "best_mess_dt_acc_gini = get_dt_acc(mess_x_train, mess_y_train, mess_x_test, mess_y_test, d=best_mess_d_gini, cost_fn=gini_index)\n",
        "print(\"Best max_depth for dataset #2 with missclassification: \" + str(best_mess_d) + \", Test accuracy: \" + str(best_mess_dt_acc))\n",
        "print(\"Best max_depth for dataset #2 with entropy: \" + str(best_mess_d_ent) + \", Test accuracy: \" + str(best_mess_dt_acc_ent))\n",
        "print(\"Best max_depth for dataset #2 with gini index: \" + str(best_mess_d_gini) + \", Test accuracy: \" + str(best_mess_dt_acc_gini))\n",
        "\n",
        "fig, axs = plt.subplots(2)\n",
        "axs[0].bar(['Missclassification'], [best_hep_dt_acc], width=0.2)\n",
        "axs[0].bar(['Entropy'], [best_hep_dt_acc_ent], color='maroon', width=0.2)\n",
        "axs[0].bar(['Gini Index'], [best_hep_dt_acc_gini], color='green', width=0.2)\n",
        "axs[0].xlabel = 'Cost Function'\n",
        "axs[0].ylabel = 'Accuracy'\n",
        "axs[0].legend = 'best'\n",
        "\n",
        "axs[1].bar(['Missclassification'], [best_mess_dt_acc], width=0.2)\n",
        "axs[1].bar(['Entropy'], [best_mess_dt_acc_ent], color='maroon', width=0.2)\n",
        "axs[1].bar(['Gini Index'], [best_mess_dt_acc_gini], color='green', width=0.2)\n",
        "axs[1].xlabel = 'Cost Function'\n",
        "axs[1].ylabel = 'Accuracy'\n",
        "axs[1].legend = 'best'\n",
        "\n",
        "plt.savefig('DT_diff_cost_fn.png')"
      ],
      "metadata": {
        "colab": {
          "base_uri": "https://localhost:8080/",
          "height": 375
        },
        "id": "EurhPw9W6Zui",
        "outputId": "8a9883db-3c55-466c-a6a1-725c773ad6f6"
      },
      "execution_count": null,
      "outputs": [
        {
          "output_type": "stream",
          "name": "stdout",
          "text": [
            "Best max_depth for dataset #1 with missclassification: 1, Test accuracy: 0.6875\n",
            "Best max_depth for dataset #1 with entropy: 1, Test accuracy: 0.6875\n",
            "Best max_depth for dataset #1 with gini index: 1, Test accuracy: 0.6875\n",
            "Best max_depth for dataset #2 with missclassification: 2, Test accuracy: 0.5782608695652174\n",
            "Best max_depth for dataset #2 with entropy: 1, Test accuracy: 0.5521739130434783\n",
            "Best max_depth for dataset #2 with gini index: 1, Test accuracy: 0.5521739130434783\n"
          ]
        },
        {
          "output_type": "display_data",
          "data": {
            "text/plain": [
              "<Figure size 432x288 with 2 Axes>"
            ],
            "image/png": "[encoded data removed]"
          },
          "metadata": {
            "needs_background": "light"
          }
        }
      ]
    },
    {
      "cell_type": "markdown",
      "source": [
        "Decision boundaries for Dataset #1 with KNN"
      ],
      "metadata": {
        "id": "8KF5qCsmBtWr"
      }
    },
    {
      "cell_type": "code",
      "source": [
        "x0v = np.linspace(np.min(hep_norm[:,knn_hep_att1+1]), np.max(hep_norm[:,knn_hep_att1+1]), 200)\n",
        "x1v = np.linspace(np.min(hep_norm[:,knn_hep_att2+1]), np.max(hep_norm[:,knn_hep_att2+1]), 200)\n",
        "\n",
        "x0, x1 = np.meshgrid(x0v, x1v)\n",
        "x_all = np.vstack((x0.ravel(),x1.ravel())).T\n",
        "\n",
        "hep_y_prob_all, _ = KNN().fit(knn_hep_x_train, hep_y_train, k=best_hep_k).predict(x_all)\n",
        "y_pred_all = np.zeros_like(hep_y_prob_all)\n",
        "y_pred_all[np.arange(x_all.shape[0]), np.argmax(hep_y_prob_all, axis=-1)] = 1\n",
        "\n",
        "y_train_prob = np.zeros((hep_y_train.shape[0], int(np.max(hep_norm[:,0]+1))))\n",
        "y_train_prob[np.arange(hep_y_train.shape[0]), hep_y_train] = 1\n",
        "\n",
        "\n",
        "plt.clf()\n",
        "plt.scatter(knn_hep_x_train[:,0], knn_hep_x_train[:,1], c=y_train_prob, marker='o', alpha=1)\n",
        "plt.scatter(x_all[:,0], x_all[:,1], c=y_pred_all, marker='.', alpha=0.01)\n",
        "plt.savefig(\"Decision_boundary_knn_hep.png\", dpi=300, bbox_inches='tight')"
      ],
      "metadata": {
        "id": "KjcuESs27ZiA",
        "colab": {
          "base_uri": "https://localhost:8080/",
          "height": 265
        },
        "outputId": "77fb7792-b789-4369-daf0-880280787eac"
      },
      "execution_count": null,
      "outputs": [
        {
          "output_type": "display_data",
          "data": {
            "text/plain": [
              "<Figure size 432x288 with 1 Axes>"
            ],
            "image/png": "[encoded data removed]"
          },
          "metadata": {
            "needs_background": "light"
          }
        }
      ]
    },
    {
      "cell_type": "markdown",
      "source": [
        "Decision Boundary for Dataset #1 with DT"
      ],
      "metadata": {
        "id": "r1_fbbEiU1v4"
      }
    },
    {
      "cell_type": "code",
      "source": [
        "x0v = np.linspace(np.min(hep_norm[:,dt_hep_att1+1]), np.max(hep_norm[:,dt_hep_att1+1]), 200)\n",
        "x1v = np.linspace(np.min(hep_norm[:,dt_hep_att2+1]), np.max(hep_norm[:,dt_hep_att2+1]), 200)\n",
        "\n",
        "x0, x1 = np.meshgrid(x0v, x1v)\n",
        "x_all = np.vstack((x0.ravel(),x1.ravel())).T\n",
        "\n",
        "hep_y_prob_all = DecisionTree(max_depth=best_hep_d).fit(dt_hep_x_train, hep_y_train).predict(x_all)\n",
        "y_pred_all = np.zeros_like(hep_y_prob_all)\n",
        "y_pred_all[np.arange(x_all.shape[0]), np.argmax(hep_y_prob_all, axis=-1)] = 1\n",
        "\n",
        "y_train_prob = np.zeros((hep_y_train.shape[0], int(np.max(hep_norm[:,0]+1))))\n",
        "y_train_prob[np.arange(hep_y_train.shape[0]), hep_y_train] = 1\n",
        "\n",
        "\n",
        "plt.clf()\n",
        "plt.scatter(dt_hep_x_train[:,0], dt_hep_x_train[:,1], c=y_train_prob, marker='o', alpha=1)\n",
        "plt.scatter(x_all[:,0], x_all[:,1], c=y_pred_all, marker='.', alpha=0.01)\n",
        "plt.savefig(\"Decision_boundary_dt_hep.png\", dpi=300, bbox_inches='tight')"
      ],
      "metadata": {
        "colab": {
          "base_uri": "https://localhost:8080/",
          "height": 265
        },
        "id": "5SGy247XU4bZ",
        "outputId": "6dd0924c-37d5-43e7-c8e0-2e8528c63b6c"
      },
      "execution_count": null,
      "outputs": [
        {
          "output_type": "display_data",
          "data": {
            "text/plain": [
              "<Figure size 432x288 with 1 Axes>"
            ],
            "image/png": "[encoded data removed]"
          },
          "metadata": {
            "needs_background": "light"
          }
        }
      ]
    },
    {
      "cell_type": "markdown",
      "source": [
        "Decision Boundary for Dataset #2 with KNN"
      ],
      "metadata": {
        "id": "rU5alNZnV9ko"
      }
    },
    {
      "cell_type": "code",
      "source": [
        "x0v = np.linspace(np.min(mess_norm[:,knn_mess_att1]), np.max(mess_norm[:,knn_mess_att1]), 200)\n",
        "x1v = np.linspace(np.min(mess_norm[:,knn_mess_att2]), np.max(mess_norm[:,knn_mess_att2]), 200)\n",
        "\n",
        "x0, x1 = np.meshgrid(x0v, x1v)\n",
        "x_all = np.vstack((x0.ravel(),x1.ravel())).T\n",
        "\n",
        "mess_y_prob_all, _ = KNN().fit(knn_mess_x_train, mess_y_train, k=best_mess_k).predict(x_all)\n",
        "y_pred_all = np.zeros_like(mess_y_prob_all)\n",
        "y_pred_all[np.arange(x_all.shape[0]), np.argmax(mess_y_prob_all, axis=-1)] = 1\n",
        "\n",
        "y_train_prob = np.zeros((mess_y_train.shape[0], int(np.max(mess_norm[:,-1])+1)))\n",
        "y_train_prob[np.arange(mess_y_train.shape[0]), mess_y_train] = 1\n",
        "\n",
        "\n",
        "plt.clf()\n",
        "plt.scatter(knn_mess_x_train[:,0], knn_mess_x_train[:,1], c=y_train_prob, marker='o', alpha=1)\n",
        "plt.scatter(x_all[:,0], x_all[:,1], c=y_pred_all, marker='.', alpha=0.01)\n",
        "plt.savefig(\"Decision_boundary_knn_mess.png\", dpi=300, bbox_inches='tight')"
      ],
      "metadata": {
        "colab": {
          "base_uri": "https://localhost:8080/",
          "height": 265
        },
        "id": "f7gfexmPV_SJ",
        "outputId": "ade9a273-59f0-4e0a-ccd5-9a66df1df55b"
      },
      "execution_count": null,
      "outputs": [
        {
          "output_type": "display_data",
          "data": {
            "text/plain": [
              "<Figure size 432x288 with 1 Axes>"
            ],
            "image/png": "[encoded data removed]"
          },
          "metadata": {
            "needs_background": "light"
          }
        }
      ]
    },
    {
      "cell_type": "markdown",
      "source": [
        "Decision Boundary for Dataset #2 with DT"
      ],
      "metadata": {
        "id": "_jnn_pknZrCp"
      }
    },
    {
      "cell_type": "code",
      "source": [
        "x0v = np.linspace(np.min(mess_norm[:,dt_mess_att1]), np.max(mess_norm[:,dt_mess_att1]), 200)\n",
        "x1v = np.linspace(np.min(mess_norm[:,dt_mess_att2]), np.max(mess_norm[:,dt_mess_att2]), 200)\n",
        "\n",
        "x0, x1 = np.meshgrid(x0v, x1v)\n",
        "x_all = np.vstack((x0.ravel(),x1.ravel())).T\n",
        "\n",
        "mess_y_prob_all = DecisionTree(max_depth=best_mess_d).fit(dt_mess_x_train, mess_y_train).predict(x_all)\n",
        "y_pred_all = np.zeros_like(mess_y_prob_all)\n",
        "y_pred_all[np.arange(x_all.shape[0]), np.argmax(mess_y_prob_all, axis=-1)] = 1\n",
        "\n",
        "y_train_prob = np.zeros((mess_y_train.shape[0], int(np.max(mess_norm[:,-1]+1))))\n",
        "y_train_prob[np.arange(mess_y_train.shape[0]), mess_y_train] = 1\n",
        "\n",
        "\n",
        "plt.clf()\n",
        "plt.scatter(dt_mess_x_train[:,0], dt_mess_x_train[:,1], c=y_train_prob, marker='o', alpha=1)\n",
        "plt.scatter(x_all[:,0], x_all[:,1], c=y_pred_all, marker='.', alpha=0.01)\n",
        "plt.savefig(\"Decision_boundary_dt_mess.png\", dpi=300, bbox_inches='tight')"
      ],
      "metadata": {
        "colab": {
          "base_uri": "https://localhost:8080/",
          "height": 266
        },
        "id": "rQdZT1c2ZuA7",
        "outputId": "27c8d1e6-fd37-4db1-bfc6-a09e99c9f9be"
      },
      "execution_count": null,
      "outputs": [
        {
          "output_type": "display_data",
          "data": {
            "text/plain": [
              "<Figure size 432x288 with 1 Axes>"
            ],
            "image/png": "[encoded data removed]"
          },
          "metadata": {
            "needs_background": "light"
          }
        }
      ]
    },
    {
      "cell_type": "markdown",
      "source": [
        "The key features for DT are obtained by shuffling one feature at a time and calculating the accuracy of the prediction with the shuffled feature. The lowest accuracies are those in which the shuffled feature was the most important, since not having the right values decreases the accuracy the most."
      ],
      "metadata": {
        "id": "WutnY-TqppDj"
      }
    },
    {
      "cell_type": "code",
      "source": [
        "print(\"The first key feature of Dataset #1 for DecisionTree is feature #\" + str(dt_hep_att1))\n",
        "print(\"The second key feature of Dataset #1 for DecisionTree is feature #\" + str(dt_hep_att2))\n",
        "print(\"The first key feature of Dataset #2 for DecisionTree is feature #\" + str(dt_mess_att1))\n",
        "print(\"The second key feature of Dataset #2 for DecisionTree is feature #\" + str(dt_mess_att2))"
      ],
      "metadata": {
        "colab": {
          "base_uri": "https://localhost:8080/"
        },
        "id": "8LKY4ng2qBb3",
        "outputId": "9de1ed81-b434-4c2f-dd37-b28806250b5e"
      },
      "execution_count": null,
      "outputs": [
        {
          "output_type": "stream",
          "name": "stdout",
          "text": [
            "The first key feature of Dataset #1 for DecisionTree is feature #1\n",
            "The second key feature of Dataset #1 for DecisionTree is feature #2\n",
            "The first key feature of Dataset #2 for DecisionTree is feature #1\n",
            "The second key feature of Dataset #2 for DecisionTree is feature #12\n"
          ]
        }
      ]
    },
    {
      "cell_type": "markdown",
      "source": [
        "The key features for KNN are obtained by shuffling one feature at a time and calculating the accuracy of the prediction with the shuffled feature. The lowest accuracies are those in which the shuffled feature was the most important, since not having the right values decreases the accuracy the most."
      ],
      "metadata": {
        "id": "BSWuAQeBquo2"
      }
    },
    {
      "cell_type": "code",
      "source": [
        "print(\"The first key feature of Dataset #1 for KNN is feature #\" + str(knn_hep_att1))\n",
        "print(\"The second key feature of Dataset #1 for KNN is feature #\" + str(knn_hep_att2))\n",
        "print(\"The first key feature of Dataset #2 for KNN is feature #\" + str(knn_mess_att1))\n",
        "print(\"The second key feature of Dataset #2 for KNN is feature #\" + str(knn_mess_att2))"
      ],
      "metadata": {
        "colab": {
          "base_uri": "https://localhost:8080/"
        },
        "id": "MaFeIjMKqxwl",
        "outputId": "b821c4a6-29f2-44fc-ce75-eecaf0b8ff6b"
      },
      "execution_count": null,
      "outputs": [
        {
          "output_type": "stream",
          "name": "stdout",
          "text": [
            "The first key feature of Dataset #1 for KNN is feature #1\n",
            "The second key feature of Dataset #1 for KNN is feature #2\n",
            "The first key feature of Dataset #2 for KNN is feature #1\n",
            "The second key feature of Dataset #2 for KNN is feature #7\n"
          ]
        }
      ]
    },
    {
      "cell_type": "markdown",
      "source": [
        "Experiment: use all the features instead of selecting only two"
      ],
      "metadata": {
        "id": "ZmdSq_3j4A8r"
      }
    },
    {
      "cell_type": "code",
      "source": [
        "knn_hep_acc = get_knn_acc(hep_x_train, hep_y_train, hep_x_test, hep_y_test, k=1, dist_fn=euclidean)\n",
        "print(\"The accuracy for dataset #1 using KNN with all features: \" + str(knn_hep_acc))\n",
        "\n",
        "knn_hep_acc = get_knn_acc(mess_x_train, mess_y_train, mess_x_test, mess_y_test, k=1, dist_fn=euclidean)\n",
        "print(\"The accuracy for dataset #2 using KNN with all features: \" + str(knn_hep_acc))\n",
        "\n",
        "dt_hep_acc = get_dt_acc(hep_x_train, hep_y_train, hep_x_test, hep_y_test, d=3, cost_fn=missclassification)\n",
        "print(\"The accuracy for dataset #1 using DecisionTree with all features: \" + str(dt_hep_acc))\n",
        "\n",
        "dt_mess_acc = get_dt_acc(mess_x_train, mess_y_train, mess_x_test, mess_y_test, d=3, cost_fn=missclassification)\n",
        "print(\"The accuracy for dataset #2 using DecisionTree with all features: \" + str(dt_mess_acc))"
      ],
      "metadata": {
        "colab": {
          "base_uri": "https://localhost:8080/"
        },
        "id": "VUGmYO8k4NbS",
        "outputId": "a6393706-a7af-4224-ce02-9d2ba03bc7c8"
      },
      "execution_count": null,
      "outputs": [
        {
          "output_type": "stream",
          "name": "stdout",
          "text": [
            "The accuracy for dataset #1 using KNN with all features: 0.5625\n",
            "The accuracy for dataset #2 using KNN with all features: 0.6434782608695652\n",
            "The accuracy for dataset #1 using DecisionTree with all features: 0.8125\n",
            "The accuracy for dataset #2 using DecisionTree with all features: 0.6217391304347826\n"
          ]
        }
      ]
    },
    {
      "cell_type": "markdown",
      "source": [
        "Experiment: "
      ],
      "metadata": {
        "id": "8DwuboZX5BVB"
      }
    }
  ]
}